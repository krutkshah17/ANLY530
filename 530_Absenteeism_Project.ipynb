{
 "cells": [
  {
   "cell_type": "code",
   "execution_count": 48,
   "metadata": {
    "pycharm": {
     "is_executing": true,
     "name": "#%%\n"
    }
   },
   "outputs": [],
   "source": [
    "#import config\n",
    "import pandas as pd\n",
    "import numpy as np\n",
    "import matplotlib.pyplot as plt\n",
    "import seaborn as sns\n",
    "#from fancyimpute import KNN\n",
    "from sklearn.model_selection import train_test_split\n",
    "from sklearn.metrics import mean_squared_error, r2_score, accuracy_score, confusion_matrix\n",
    "from sklearn.linear_model import LinearRegression\n",
    "from sklearn.tree import DecisionTreeRegressor\n",
    "from sklearn.ensemble import RandomForestRegressor\n",
    "from sklearn.decomposition import PCA\n",
    "from sklearn.preprocessing import StandardScaler\n"
   ]
  },
  {
   "cell_type": "code",
   "execution_count": null,
   "metadata": {
    "pycharm": {
     "is_executing": true,
     "name": "#%%\n"
    }
   },
   "outputs": [],
   "source": [
    "absenteeism = pd.read_csv(\"Absenteeism_at_work_train.csv\")\n",
    "\n",
    "print(absenteeism.head())\n"
   ]
  },
  {
   "cell_type": "code",
   "execution_count": null,
   "metadata": {
    "pycharm": {
     "is_executing": true,
     "name": "#%%\n"
    }
   },
   "outputs": [],
   "source": [
    "absenteeism.describe()"
   ]
  },
  {
   "cell_type": "code",
   "execution_count": null,
   "metadata": {
    "pycharm": {
     "is_executing": true,
     "name": "#%%\n"
    }
   },
   "outputs": [],
   "source": [
    "\n",
    "absenteeism.info()\n",
    "# Age and Work load Average/day need to be converted from object to Integer"
   ]
  },
  {
   "cell_type": "code",
   "execution_count": null,
   "metadata": {
    "pycharm": {
     "is_executing": true,
     "name": "#%%\n"
    }
   },
   "outputs": [],
   "source": [
    "absenteeism.dtypes"
   ]
  },
  {
   "cell_type": "code",
   "execution_count": null,
   "metadata": {
    "pycharm": {
     "is_executing": true
    }
   },
   "outputs": [],
   "source": [
    "# Change to categorical\n",
    "\n",
    "absenteeism['ID'] = absenteeism['ID'].astype('category')\n",
    "absenteeism['Reason for absence'] = absenteeism['Reason for absence'].astype('category')\n",
    "absenteeism['Month of absence'] = absenteeism['Month of absence'].astype('category')\n",
    "absenteeism['Day of the week'] = absenteeism['Day of the week'].astype('category')\n",
    "absenteeism['Seasons'] = absenteeism['Seasons'].astype('category')\n",
    "absenteeism['Disciplinary failure'] = absenteeism['Disciplinary failure'].astype('category')\n",
    "absenteeism['Education'] = absenteeism['Education'].astype('category')\n",
    "absenteeism['Son'] = absenteeism['Son'].astype('category')\n",
    "absenteeism['Social drinker'] = absenteeism['Social drinker'].astype('category')\n",
    "absenteeism['Social smoker'] = absenteeism['Social smoker'].astype('category')\n",
    "absenteeism['Pet'] = absenteeism['Pet'].astype('category')"
   ]
  },
  {
   "cell_type": "code",
   "execution_count": null,
   "metadata": {
    "pycharm": {
     "is_executing": true,
     "name": "#%%\n"
    }
   },
   "outputs": [],
   "source": [
    "# Check missing values\n",
    "\n",
    "absenteeism.isnull().sum()\n",
    "\n",
    "# Weight and Hit target has missing values"
   ]
  },
  {
   "cell_type": "code",
   "execution_count": null,
   "metadata": {
    "pycharm": {
     "is_executing": true,
     "name": "#%%\n"
    }
   },
   "outputs": [],
   "source": [
    "# Drop NAs\n",
    "\n",
    "absenteeism = absenteeism.dropna(axis = 0)\n",
    "\n",
    "absenteeism.isnull().sum()"
   ]
  },
  {
   "cell_type": "code",
   "execution_count": null,
   "metadata": {
    "pycharm": {
     "is_executing": true,
     "name": "#%%\n"
    }
   },
   "outputs": [],
   "source": [
    "# Check Age column values\n",
    "\n",
    "# We see 'R' as a value for Age in a row. Update it to 0\n",
    "absenteeism.loc[absenteeism.Age == 'R', \"Age\"] = 0\n",
    "\n",
    "# Convert the column to numeric\n",
    "absenteeism[['Age']] = absenteeism[['Age']].apply(pd.to_numeric)\n",
    "\n"
   ]
  },
  {
   "cell_type": "code",
   "execution_count": null,
   "metadata": {
    "pycharm": {
     "is_executing": true,
     "name": "#%%\n"
    }
   },
   "outputs": [],
   "source": [
    "# To convert 'Work load Average/day' column from object to numeric remove the commas in the values\n",
    "\n",
    "absenteeism.replace(',','', regex=True, inplace=True)\n",
    "\n",
    "# Convert the column to numeric\n",
    "absenteeism[\"Work load Average/day \"] = pd.to_numeric(absenteeism[\"Work load Average/day \"], errors='ignore')\n",
    "\n",
    "# Renaming the column name to remove the blank space \n",
    "absenteeism.rename(columns = {'Work load Average/day ':'Work_load_Average'}, inplace = True)\n",
    "\n"
   ]
  },
  {
   "cell_type": "code",
   "execution_count": null,
   "metadata": {
    "pycharm": {
     "is_executing": true
    }
   },
   "outputs": [],
   "source": [
    "# categorising the independdent variables in to category \" Continuos\" and \"Categorical\"\n",
    "continuous_vars = ['Distance from Residence to Work', 'Service time', 'Age', 'Work_load_Average', 'Transportation expense',\n",
    "       'Hit target', 'Weight', 'Height', 'Body mass index', 'Absenteeism time in hours']\n",
    "\n",
    "categorical_vars = ['ID','Reason for absence','Month of absence','Day of the week',\n",
    "                     'Seasons','Disciplinary failure', 'Education', 'Social drinker',\n",
    "                     'Social smoker', 'Pet', 'Son']"
   ]
  },
  {
   "cell_type": "code",
   "execution_count": null,
   "metadata": {
    "pycharm": {
     "is_executing": true,
     "name": "#%%\n"
    }
   },
   "outputs": [],
   "source": [
    "# Outlier check using boxplot\n",
    "\n",
    "for i in continuous_vars:\n",
    "    if i == 'Absenteeism time in hours':\n",
    "        continue\n",
    "    sns.boxplot(data = absenteeism[i], orient=\"h\", palette=\"Set2\")\n",
    "    plt.title(\"Checking Outlier for Variable \"+str(i))\n",
    "    plt.show()\n",
    " \n",
    "# We can see outliers in Service time,Age, wor_load_Average per day, Transportation expense, Hit target, Weight, Height, Body Mass index,\n"
   ]
  },
  {
   "cell_type": "code",
   "execution_count": null,
   "metadata": {
    "pycharm": {
     "is_executing": true,
     "name": "#%%\n"
    }
   },
   "outputs": [],
   "source": [
    "# Outlier treatement\n",
    "\n",
    "# Identify the continuous independent variable with outlier and replace the outliers with the lower bound and upper bound values\n",
    "\n",
    "# We are treating outliers in all the continous variables except the dependent variable\n",
    "# The outlier in the dependent variable could be inflencial\n",
    "\n",
    "for col in continuous_vars : \n",
    "    if col == 'Absenteeism time in hours':\n",
    "        continue\n",
    "    q1 = absenteeism[col].quantile(.25)\n",
    "    q3 = absenteeism[col].quantile(.75)\n",
    "    OQR = q3 - q1\n",
    "    lb = q1-(q3-q1)*1.5\n",
    "    ub = q3+(q3-q1)*1.5\n",
    "    absenteeism[col] = np.where(absenteeism[col] < lb, lb,absenteeism[col])\n",
    "    absenteeism[col] = np.where(absenteeism[col] > ub, ub,absenteeism[col])\n",
    "\n"
   ]
  },
  {
   "cell_type": "code",
   "execution_count": null,
   "metadata": {
    "pycharm": {
     "is_executing": true,
     "name": "#%%\n"
    }
   },
   "outputs": [],
   "source": [
    "# Check outliers post outlier treatment\n",
    "\n",
    "for i in continuous_vars:\n",
    "    if i == 'Absenteeism time in hours':\n",
    "        continue\n",
    "    sns.boxplot(data = absenteeism[i], orient=\"h\", palette=\"Set2\")\n",
    "    plt.title(\"Checking Outlier for Variable \"+str(i))\n",
    "    plt.show()\n",
    " \n",
    "# plot shows that the outliers are updated"
   ]
  },
  {
   "cell_type": "code",
   "execution_count": null,
   "metadata": {
    "pycharm": {
     "is_executing": true,
     "name": "#%%\n"
    }
   },
   "outputs": [],
   "source": [
    "# Check the correlation between the variables using heatmap\n",
    "\n",
    "plt.figure(figsize = (20,6))\n",
    "sns.heatmap(absenteeism.corr(), annot = True)\n",
    "plt.show()\n",
    "\n",
    "# With the help of correlation plot we can see that Body Mass Index and Weight has high correlation near to 1. \n",
    "# Which determines that we can drop one of the variable from the dataset. \n",
    "# Similarly Service time and Age has a significant correlation too"
   ]
  },
  {
   "cell_type": "code",
   "execution_count": null,
   "metadata": {
    "pycharm": {
     "is_executing": true,
     "name": "#%%\n"
    }
   },
   "outputs": [],
   "source": [
    "# Check the bar graph of categorical Data using factorplot\n",
    "sns.set_style(\"whitegrid\")\n",
    "sns.factorplot(data=absenteeism, x='Reason for absence', kind= 'count',size=4,aspect=2)\n",
    "sns.factorplot(data=absenteeism, x='Seasons', kind= 'count',size=4,aspect=2)\n",
    "sns.factorplot(data=absenteeism, x='Education', kind= 'count',size=4,aspect=2)\n",
    "sns.factorplot(data=absenteeism, x='Disciplinary failure', kind= 'count',size=4,aspect=2)"
   ]
  },
  {
   "cell_type": "code",
   "execution_count": null,
   "metadata": {
    "pycharm": {
     "is_executing": true,
     "name": "#%%\n"
    }
   },
   "outputs": [],
   "source": [
    "plt.hist(data=absenteeism, x='Weight', bins='auto', label='Weight')\n",
    "plt.xlabel('Weight')\n",
    "plt.title(\"Weight Distribution\")"
   ]
  },
  {
   "cell_type": "code",
   "execution_count": null,
   "metadata": {
    "pycharm": {
     "is_executing": true,
     "name": "#%%\n"
    }
   },
   "outputs": [],
   "source": [
    "# Check the distribution of numerical data using histogram\n",
    "plt.hist(data=absenteeism, x='Age', bins='auto', label='Age')\n",
    "plt.xlabel('Age')\n",
    "plt.title(\"Age Distribution\")"
   ]
  },
  {
   "cell_type": "code",
   "execution_count": null,
   "metadata": {
    "pycharm": {
     "is_executing": true,
     "name": "#%%\n"
    }
   },
   "outputs": [],
   "source": [
    "# Fixing random state for reproducibility\n",
    "np.random.seed(19680801)\n",
    "N = 663\n",
    "x = absenteeism['Age']\n",
    "y = absenteeism['Absenteeism time in hours']\n",
    "colors = np.random.rand(N)\n",
    "plt.scatter(x, y, c=colors, alpha=0.2)\n",
    "plt.xlabel(\"Age\")\n",
    "plt.ylabel(\"Absenteeism time in hours\")\n",
    "plt.title(\"Distribution of Absenteeism time by Age\")\n",
    "plt.show()"
   ]
  },
  {
   "cell_type": "code",
   "execution_count": null,
   "metadata": {
    "pycharm": {
     "is_executing": true,
     "name": "#%%\n"
    }
   },
   "outputs": [],
   "source": [
    "x = absenteeism['Reason for absence']\n",
    "y = absenteeism['Absenteeism time in hours']\n",
    "plt.scatter(x, y, alpha=0.5)\n",
    "plt.xlabel(\"Reason for Absence\")\n",
    "plt.ylabel(\"Absenteeism time in hours\")\n",
    "plt.title(\"Distribution of Absenteeism time by Reason of Absence\")\n",
    "plt.show()"
   ]
  },
  {
   "cell_type": "code",
   "execution_count": null,
   "metadata": {
    "pycharm": {
     "is_executing": true,
     "name": "#%%\n"
    }
   },
   "outputs": [],
   "source": [
    "# Fixing random state for reproducibility\n",
    "np.random.seed(19680801)\n",
    "N = 663\n",
    "x = absenteeism['Day of the week']\n",
    "y = absenteeism['Absenteeism time in hours']\n",
    "colors = np.random.rand(N)\n",
    "plt.scatter(x, y, c=colors, alpha=0.2)\n",
    "plt.xlabel(\"Day of the week\")\n",
    "plt.ylabel(\"Absenteeism time in hours\")\n",
    "plt.title(\"Distribution of Absenteeism time by Day of the week\")\n",
    "plt.show()"
   ]
  },
  {
   "cell_type": "markdown",
   "metadata": {},
   "source": [
    "## Feature Selection"
   ]
  },
  {
   "cell_type": "code",
   "execution_count": null,
   "metadata": {
    "pycharm": {
     "is_executing": true,
     "name": "#%%\n"
    }
   },
   "outputs": [],
   "source": [
    "# Get dataframe with all continuous variables\n",
    "absenteeism_corr = absenteeism.loc[:,continuous_vars]"
   ]
  },
  {
   "cell_type": "code",
   "execution_count": null,
   "metadata": {
    "pycharm": {
     "is_executing": true,
     "name": "#%%\n"
    }
   },
   "outputs": [],
   "source": [
    "# Check for multicollinearity using corelation graph\n",
    "# Set the width and hieght of the plot\n",
    "f, ax = plt.subplots(figsize=(10, 10))\n",
    "\n",
    "# Generate correlation matrix\n",
    "corr = absenteeism_corr.corr()\n",
    "\n",
    "# Plot using seaborn library\n",
    "sns.heatmap(corr, mask=np.zeros_like(corr, dtype=np.bool), \n",
    "            cmap=sns.diverging_palette(220, 50, as_cmap=True),\n",
    "            square=True, ax=ax, annot = True)\n",
    "plt.plot()"
   ]
  },
  {
   "cell_type": "code",
   "execution_count": null,
   "metadata": {
    "pycharm": {
     "is_executing": true,
     "name": "#%%\n"
    }
   },
   "outputs": [],
   "source": [
    "# Variable Reduction\n",
    "to_drop = ['Weight']\n",
    "absenteeism = absenteeism.drop(to_drop, axis = 1)"
   ]
  },
  {
   "cell_type": "code",
   "execution_count": null,
   "metadata": {
    "pycharm": {
     "is_executing": true,
     "name": "#%%\n"
    }
   },
   "outputs": [],
   "source": [
    "# Updating the Continuous and Categorical Variables\n",
    "continuous_vars.remove('Weight')"
   ]
  },
  {
   "cell_type": "code",
   "execution_count": null,
   "metadata": {
    "pycharm": {
     "is_executing": true,
     "name": "#%%\n"
    }
   },
   "outputs": [],
   "source": [
    "# Make a copy of clean data and export it as excel file\n",
    "clean_data = absenteeism.copy()"
   ]
  },
  {
   "cell_type": "code",
   "execution_count": null,
   "metadata": {
    "pycharm": {
     "is_executing": true,
     "name": "#%%\n"
    }
   },
   "outputs": [],
   "source": [
    "continuous_vars"
   ]
  },
  {
   "cell_type": "markdown",
   "metadata": {},
   "source": [
    "## Feature Scaling"
   ]
  },
  {
   "cell_type": "code",
   "execution_count": null,
   "metadata": {
    "pycharm": {
     "is_executing": true,
     "name": "#%%\n"
    }
   },
   "outputs": [],
   "source": [
    "# Normality check\n",
    "for i in continuous_vars:\n",
    "    if i == 'Absenteeism time in hours':\n",
    "        continue\n",
    "    sns.distplot(absenteeism[i],bins = 'auto')\n",
    "    plt.title(\"Checking Distribution for Variable \"+str(i))\n",
    "    plt.ylabel(\"Density\")\n",
    "    plt.show()"
   ]
  },
  {
   "cell_type": "code",
   "execution_count": null,
   "metadata": {
    "pycharm": {
     "is_executing": true,
     "name": "#%%\n"
    }
   },
   "outputs": [],
   "source": [
    "# Normalization of continuous variables\n",
    "\n",
    "for i in continuous_vars:\n",
    "    if i == 'Absenteeism time in hours':\n",
    "        continue\n",
    "    absenteeism[i] = (absenteeism[i] - absenteeism[i].min())/(absenteeism[i].max()-absenteeism[i].min())\n",
    "    \n",
    "    \n",
    "print(absenteeism.head())"
   ]
  },
  {
   "cell_type": "markdown",
   "metadata": {},
   "source": [
    "## Machine Learning Models"
   ]
  },
  {
   "cell_type": "code",
   "execution_count": 32,
   "metadata": {
    "pycharm": {
     "is_executing": true,
     "name": "#%%\n"
    }
   },
   "outputs": [],
   "source": [
    "# Create dummy variables of factor variables\n",
    "absenteeism = pd.get_dummies(data = absenteeism, columns = categorical_vars)\n",
    "\n",
    "# Copying dataframe\n",
    "absenteeism_copy = absenteeism.copy()"
   ]
  },
  {
   "cell_type": "code",
   "execution_count": 33,
   "metadata": {
    "pycharm": {
     "is_executing": true,
     "name": "#%%\n"
    }
   },
   "outputs": [
    {
     "data": {
      "text/plain": [
       "(663, 113)"
      ]
     },
     "execution_count": 33,
     "metadata": {},
     "output_type": "execute_result"
    }
   ],
   "source": [
    "# Get number of rows and columns\n",
    "absenteeism.shape"
   ]
  },
  {
   "cell_type": "code",
   "execution_count": 34,
   "metadata": {
    "pycharm": {
     "is_executing": true,
     "name": "#%%\n"
    }
   },
   "outputs": [
    {
     "data": {
      "text/html": [
       "<div>\n",
       "<style scoped>\n",
       "    .dataframe tbody tr th:only-of-type {\n",
       "        vertical-align: middle;\n",
       "    }\n",
       "\n",
       "    .dataframe tbody tr th {\n",
       "        vertical-align: top;\n",
       "    }\n",
       "\n",
       "    .dataframe thead th {\n",
       "        text-align: right;\n",
       "    }\n",
       "</style>\n",
       "<table border=\"1\" class=\"dataframe\">\n",
       "  <thead>\n",
       "    <tr style=\"text-align: right;\">\n",
       "      <th></th>\n",
       "      <th>Transportation expense</th>\n",
       "      <th>Distance from Residence to Work</th>\n",
       "      <th>Service time</th>\n",
       "      <th>Age</th>\n",
       "      <th>Work_load_Average</th>\n",
       "      <th>Hit target</th>\n",
       "      <th>Height</th>\n",
       "      <th>Body mass index</th>\n",
       "      <th>Absenteeism time in hours</th>\n",
       "      <th>ID_1</th>\n",
       "      <th>...</th>\n",
       "      <th>Pet_1</th>\n",
       "      <th>Pet_2</th>\n",
       "      <th>Pet_4</th>\n",
       "      <th>Pet_5</th>\n",
       "      <th>Pet_8</th>\n",
       "      <th>Son_0</th>\n",
       "      <th>Son_1</th>\n",
       "      <th>Son_2</th>\n",
       "      <th>Son_3</th>\n",
       "      <th>Son_4</th>\n",
       "    </tr>\n",
       "  </thead>\n",
       "  <tbody>\n",
       "    <tr>\n",
       "      <th>0</th>\n",
       "      <td>0.714506</td>\n",
       "      <td>0.659574</td>\n",
       "      <td>0.470588</td>\n",
       "      <td>0.430556</td>\n",
       "      <td>0.350753</td>\n",
       "      <td>0.806452</td>\n",
       "      <td>0.625</td>\n",
       "      <td>0.578947</td>\n",
       "      <td>4</td>\n",
       "      <td>0</td>\n",
       "      <td>...</td>\n",
       "      <td>1</td>\n",
       "      <td>0</td>\n",
       "      <td>0</td>\n",
       "      <td>0</td>\n",
       "      <td>0</td>\n",
       "      <td>0</td>\n",
       "      <td>0</td>\n",
       "      <td>1</td>\n",
       "      <td>0</td>\n",
       "      <td>0</td>\n",
       "    </tr>\n",
       "  </tbody>\n",
       "</table>\n",
       "<p>1 rows × 113 columns</p>\n",
       "</div>"
      ],
      "text/plain": [
       "   Transportation expense  Distance from Residence to Work  Service time  \\\n",
       "0                0.714506                         0.659574      0.470588   \n",
       "\n",
       "        Age  Work_load_Average  Hit target  Height  Body mass index  \\\n",
       "0  0.430556           0.350753    0.806452   0.625         0.578947   \n",
       "\n",
       "   Absenteeism time in hours  ID_1  ...  Pet_1  Pet_2  Pet_4  Pet_5  Pet_8  \\\n",
       "0                          4     0  ...      1      0      0      0      0   \n",
       "\n",
       "   Son_0  Son_1  Son_2  Son_3  Son_4  \n",
       "0      0      0      1      0      0  \n",
       "\n",
       "[1 rows x 113 columns]"
      ]
     },
     "execution_count": 34,
     "metadata": {},
     "output_type": "execute_result"
    }
   ],
   "source": [
    "# Observe the first row\n",
    "absenteeism.head(1)"
   ]
  },
  {
   "cell_type": "code",
   "execution_count": 39,
   "metadata": {
    "pycharm": {
     "is_executing": true,
     "name": "#%%\n"
    }
   },
   "outputs": [],
   "source": [
    "# Splitting data into train and test data\n",
    "X_train, X_test, y_train, y_test = train_test_split(\n",
    "    absenteeism.iloc[:, absenteeism.columns != 'Absenteeism time in hours'], \n",
    "    absenteeism.iloc[:, 8], test_size = 0.20, random_state = 1\n",
    ")"
   ]
  },
  {
   "cell_type": "code",
   "execution_count": 42,
   "metadata": {},
   "outputs": [],
   "source": [
    "# Utility\n",
    "\n",
    "def calculate_root_mean_square_error(actual, predicted):\n",
    "    return np.sqrt(mean_squared_error(actual, predicted))"
   ]
  },
  {
   "cell_type": "markdown",
   "metadata": {},
   "source": [
    "## Decision Tree with regression"
   ]
  },
  {
   "cell_type": "code",
   "execution_count": 56,
   "metadata": {
    "pycharm": {
     "is_executing": true,
     "name": "#%%\n"
    }
   },
   "outputs": [
    {
     "name": "stdout",
     "output_type": "stream",
     "text": [
      "     actual  pred\n",
      "328       2   3.0\n",
      "148       1   2.0\n",
      "47        4   4.0\n",
      "301      16   8.0\n",
      "507       1   3.0\n",
      "Root Mean Squared Error: 11.340674682559195\n",
      "R#^2 Score(coefficient of determination): 0.16924356555823605\n"
     ]
    }
   ],
   "source": [
    "# Build decsion tree using DecisionTreeRegressor\n",
    "decision_tree_model = DecisionTreeRegressor(random_state = 1).fit(X_train, y_train)\n",
    "\n",
    "# Perdict for test cases\n",
    "decision_tree_predictions = decision_tree_model.predict(X_test)\n",
    "\n",
    "# Create data frame for actual and predicted values\n",
    "absenteeism_decision_tree = pd.DataFrame({'actual': y_test, 'pred': decision_tree_predictions})\n",
    "print(absenteeism_decision_tree.head())\n",
    "\n",
    "# Calculate RMSE and R-squared value\n",
    "print(\"Root Mean Squared Error: {}\".format(str(calculate_root_mean_square_error(y_test, decision_tree_predictions))))\n",
    "print(\"R#^2 Score(coefficient of determination): {}\".format(str(r2_score(y_test, decision_tree_predictions))))\n",
    "\n",
    "# print(\"Confusion matrix: {}\".format(confusion_matrix(y_test, decision_tree_predictions)))\n",
    "# print(\"Accuracy score is: {}\".format(accuracy_score(y_test, decision_tree_predictions) * 100))"
   ]
  },
  {
   "cell_type": "markdown",
   "metadata": {},
   "source": [
    "## Random Forest with regression"
   ]
  },
  {
   "cell_type": "code",
   "execution_count": 59,
   "metadata": {
    "pycharm": {
     "is_executing": true,
     "name": "#%%\n"
    }
   },
   "outputs": [
    {
     "name": "stdout",
     "output_type": "stream",
     "text": [
      "     actual       pred\n",
      "328       2   3.125000\n",
      "148       1   3.430967\n",
      "47        4   2.846533\n",
      "301      16  21.980000\n",
      "507       1   5.848000\n",
      "Root Mean Squared Error: 11.028831792183091\n",
      "R#^2 Score(coefficient of determination): 0.2143032533699346\n"
     ]
    }
   ],
   "source": [
    "# Build random forest using RandomForestRegressor\n",
    "random_forest_model = RandomForestRegressor(n_estimators = 500, random_state = 1).fit(X_train,y_train)\n",
    "\n",
    "# Perdict for test cases\n",
    "random_forest_model_predictions = random_forest_model.predict(X_test)\n",
    "\n",
    "# Create data frame for actual and predicted values\n",
    "absenteeism_random_forest = pd.DataFrame({'actual': y_test, 'pred': random_forest_model_predictions})\n",
    "print(absenteeism_random_forest.head())\n",
    "\n",
    "# Calculate RMSE and R-squared value\n",
    "print(\"Root Mean Squared Error: {}\".format(\n",
    "    str(calculate_root_mean_square_error(y_test, random_forest_model_predictions)))\n",
    ")\n",
    "print(\"R#^2 Score(coefficient of determination): {}\".format(str(r2_score(y_test, random_forest_model_predictions))))\n",
    "\n",
    "# print(\"Confusion matrix: {}\".format(confusion_matrix(y_test, random_forest_model_predictions)))\n",
    "# print(\"Accuracy score is: {}\".format(accuracy_score(y_test, random_forest_model_predictions) * 100))"
   ]
  },
  {
   "cell_type": "markdown",
   "metadata": {},
   "source": [
    "## Dimension Reduction using PCA"
   ]
  },
  {
   "cell_type": "code",
   "execution_count": null,
   "metadata": {
    "pycharm": {
     "is_executing": true,
     "name": "#%%\n"
    }
   },
   "outputs": [],
   "source": [
    "# Get the target variable\n",
    "target = absenteeism['Absenteeism time in hours']"
   ]
  },
  {
   "cell_type": "code",
   "execution_count": null,
   "metadata": {
    "pycharm": {
     "is_executing": true,
     "name": "#%%\n"
    }
   },
   "outputs": [],
   "source": [
    "# Get the number of rows and columns of data\n",
    "absenteeism.shape"
   ]
  },
  {
   "cell_type": "code",
   "execution_count": null,
   "metadata": {
    "pycharm": {
     "is_executing": true,
     "name": "#%%\n"
    }
   },
   "outputs": [],
   "source": [
    "# Converting data to numpy array\n",
    "X = absenteeism.values\n",
    "\n",
    "# Data has 116 variables so no of components of PCA = 115\n",
    "pca = PCA(n_components=115)\n",
    "pca.fit(X)\n",
    "\n",
    "# Proportion of variance explained\n",
    "e xplained_variance_ratio = pca.explained_variance_ratio_\n",
    "\n",
    "#Cumulative scree plot\n",
    "cum_sum = np.cumsum(np.round(explained_variance_ratio, decimals=4)*100)\n",
    "\n",
    "# Draw the plot\n",
    "plt.plot(cum_sum)\n",
    "plt.show()"
   ]
  },
  {
   "cell_type": "code",
   "execution_count": null,
   "metadata": {
    "pycharm": {
     "is_executing": true,
     "name": "#%%\n"
    }
   },
   "outputs": [],
   "source": [
    "# Selecting 45 components since it explains almost 95+ % data variance\n",
    "pca = PCA(n_components=45)\n",
    "\n",
    "# Fitting the selected components to the data\n",
    "pca.fit(X)\n",
    "\n",
    "#S plitting data into train and test data\n",
    "X_train, X_test, y_train, y_test = train_test_split(X, target, test_size=0.2, random_state = 1)"
   ]
  },
  {
   "cell_type": "markdown",
   "metadata": {},
   "source": [
    "## Decision Tree with regression using PCA"
   ]
  },
  {
   "cell_type": "code",
   "execution_count": 60,
   "metadata": {
    "pycharm": {
     "is_executing": true,
     "name": "#%%\n"
    }
   },
   "outputs": [
    {
     "name": "stdout",
     "output_type": "stream",
     "text": [
      "     actual  pred\n",
      "328       2   3.0\n",
      "148       1   2.0\n",
      "47        4   4.0\n",
      "301      16   8.0\n",
      "507       1   3.0\n",
      "Root Mean Squared Error: 11.340674682559195\n",
      "R^2 Score(coefficient of determination): 0.16924356555823605\n"
     ]
    }
   ],
   "source": [
    "# Build decsion tree using DecisionTreeRegressor\n",
    "decision_tree_model = DecisionTreeRegressor(random_state=1).fit(X_train,y_train)\n",
    "\n",
    "# Perdict for test cases\n",
    "decision_tree_predictions = decision_tree_model.predict(X_test)\n",
    "\n",
    "# Create data frame for actual and predicted values\n",
    "absenteeism_decision_tree = pd.DataFrame({'actual': y_test, 'pred': decision_tree_predictions})\n",
    "print(absenteeism_decision_tree.head())\n",
    "\n",
    "# Calculate RMSE and R-squared value\n",
    "print(\"Root Mean Squared Error: {}\".format(str(calculate_root_mean_square_error(y_test, decision_tree_predictions))))\n",
    "print(\"R^2 Score(coefficient of determination): {}\".format(str(r2_score(y_test, decision_tree_predictions))))\n",
    "\n",
    "# print(\"Confusion matrix: {}\".format(confusion_matrix(y_test, decision_tree_predictions)))\n",
    "# print(\"Accuracy score is: {}\".format(accuracy_score(y_test, decision_tree_predictions) * 100))"
   ]
  },
  {
   "cell_type": "markdown",
   "metadata": {},
   "source": [
    "## Random Forest with regression using PCA"
   ]
  },
  {
   "cell_type": "code",
   "execution_count": 61,
   "metadata": {},
   "outputs": [
    {
     "name": "stdout",
     "output_type": "stream",
     "text": [
      "     actual       pred\n",
      "328       2   3.125000\n",
      "148       1   3.430967\n",
      "47        4   2.846533\n",
      "301      16  21.980000\n",
      "507       1   5.848000\n",
      "Root Mean Squared Error: 11.028831792183091\n",
      "R#^2 Score(coefficient of determination): 0.2143032533699346\n"
     ]
    }
   ],
   "source": [
    "# Build random forest using RandomForestRegressor\n",
    "random_forest_model = RandomForestRegressor(n_estimators = 500, random_state = 1).fit(X_train,y_train)\n",
    "\n",
    "# Perdict for test cases\n",
    "random_forest_model_predictions = random_forest_model.predict(X_test)\n",
    "\n",
    "# Create data frame for actual and predicted values\n",
    "absenteeism_random_forest = pd.DataFrame({'actual': y_test, 'pred': random_forest_model_predictions})\n",
    "print(absenteeism_random_forest.head())\n",
    "\n",
    "# Calculate RMSE and R-squared value\n",
    "print(\"Root Mean Squared Error: {}\".format(\n",
    "    str(calculate_root_mean_square_error(y_test, random_forest_model_predictions)))\n",
    ")\n",
    "print(\"R#^2 Score(coefficient of determination): {}\".format(str(r2_score(y_test, random_forest_model_predictions))))\n",
    "\n",
    "# print(\"Confusion matrix: {}\".format(confusion_matrix(y_test, random_forest_model_predictions)))\n",
    "# print(\"Accuracy score is: {}\".format(accuracy_score(y_test, random_forest_model_predictions) * 100))"
   ]
  }
 ],
 "metadata": {
  "kernelspec": {
   "display_name": "Python 3",
   "language": "python",
   "name": "python3"
  },
  "language_info": {
   "codemirror_mode": {
    "name": "ipython",
    "version": 3
   },
   "file_extension": ".py",
   "mimetype": "text/x-python",
   "name": "python",
   "nbconvert_exporter": "python",
   "pygments_lexer": "ipython3",
   "version": "3.8.5"
  }
 },
 "nbformat": 4,
 "nbformat_minor": 4
}

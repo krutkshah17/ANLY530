{
 "cells": [
  {
   "cell_type": "code",
   "execution_count": null,
   "outputs": [],
   "source": [
    "import config\n",
    "\n",
    "import pandas as pd\n",
    "import numpy as np\n",
    "import matplotlib.pyplot as plt\n",
    "import seaborn as sns\n",
    "from fancyimpute import KNN\n",
    "from sklearn.model_selection import train_test_split\n",
    "from sklearn.metrics import mean_squared_error, r2_score\n",
    "from sklearn.linear_model import LinearRegression\n",
    "from sklearn.tree import DecisionTreeRegressor\n",
    "from sklearn.ensemble import RandomForestRegressor\n",
    "from sklearn.decomposition import PCA\n"
   ],
   "metadata": {
    "collapsed": false,
    "pycharm": {
     "name": "#%%\n"
    }
   }
  },
  {
   "cell_type": "code",
   "execution_count": null,
   "outputs": [],
   "source": [
    "absenteeism = pd.read_csv(config.PATH)\n",
    "\n",
    "print(absenteeism.head())\n"
   ],
   "metadata": {
    "collapsed": false,
    "pycharm": {
     "name": "#%%\n"
    }
   }
  },
  {
   "cell_type": "code",
   "execution_count": null,
   "outputs": [],
   "source": [
    "absenteeism.describe()"
   ],
   "metadata": {
    "collapsed": false,
    "pycharm": {
     "name": "#%%\n"
    }
   }
  },
  {
   "cell_type": "code",
   "execution_count": null,
   "outputs": [],
   "source": [
    "\n",
    "absenteeism.info()\n",
    "# Age and Work load Average/day need to be converted from object to Integer"
   ],
   "metadata": {
    "collapsed": false,
    "pycharm": {
     "name": "#%%\n"
    }
   }
  },
  {
   "cell_type": "code",
   "execution_count": null,
   "outputs": [],
   "source": [
    "absenteeism.dtypes"
   ],
   "metadata": {
    "collapsed": false,
    "pycharm": {
     "name": "#%%\n"
    }
   }
  },
  {
   "cell_type": "code",
   "execution_count": null,
   "outputs": [],
   "source": [
    "# Check missing values\n",
    "\n",
    "absenteeism.isnull().sum()\n",
    "\n",
    "# Weight and Hit target has missing values"
   ],
   "metadata": {
    "collapsed": false,
    "pycharm": {
     "name": "#%%\n"
    }
   }
  },
  {
   "cell_type": "code",
   "execution_count": null,
   "outputs": [],
   "source": [
    "# Drop NAs\n",
    "\n",
    "absenteeism = absenteeism.dropna(axis = 0)\n",
    "\n",
    "absenteeism.isnull().sum()"
   ],
   "metadata": {
    "collapsed": false,
    "pycharm": {
     "name": "#%%\n"
    }
   }
  },
  {
   "cell_type": "code",
   "execution_count": null,
   "outputs": [],
   "source": [
    "# Check Age column values\n",
    "\n",
    "# We see 'R' as a value for Age in a row. Update it to 0\n",
    "absenteeism.loc[absenteeism.Age == 'R'] = 0\n",
    "\n",
    "# Convert the column to numeric\n",
    "absenteeism[['Age']] = absenteeism[['Age']].apply(pd.to_numeric)\n",
    "\n"
   ],
   "metadata": {
    "collapsed": false,
    "pycharm": {
     "name": "#%%\n"
    }
   }
  },
  {
   "cell_type": "code",
   "execution_count": null,
   "outputs": [],
   "source": [
    "# To convert 'Work load Average/day' column from object to numeric remove the commas in the values\n",
    "\n",
    "absenteeism.replace(',','', regex=True, inplace=True)\n",
    "\n",
    "# Convert the column to numeric\n",
    "absenteeism[\"Work load Average/day \"] = pd.to_numeric(absenteeism[\"Work load Average/day \"], errors='ignore')\n",
    "\n",
    "# Renaming the column name to remove the blank space \n",
    "absenteeism.rename(columns = {'Work load Average/day ':'Work_load_Average'}, inplace = True)\n",
    "\n"
   ],
   "metadata": {
    "collapsed": false,
    "pycharm": {
     "name": "#%%\n"
    }
   }
  },
  {
   "cell_type": "code",
   "execution_count": null,
   "outputs": [],
   "source": [
    "sns.boxplot(data = absenteeism['Age'], orient=\"h\", palette=\"Set2\")     \n",
    "\n",
    "sns.boxplot(data = absenteeism['Work_load_Average'], orient=\"h\", palette=\"Set2\") \n",
    "\n"
   ],
   "metadata": {
    "collapsed": false,
    "pycharm": {
     "name": "#%%\n"
    }
   }
  },
  {
   "cell_type": "code",
   "execution_count": null,
   "outputs": [],
   "source": [
    "sns.boxplot(data = absenteeism['Body mass index'], orient=\"h\", palette=\"Set2\") \n",
    "\n",
    "sns.boxplot(data = absenteeism['Weight'], orient=\"h\", palette=\"Set2\") \n",
    "\n",
    "sns.boxplot(data = absenteeism['Height'], orient=\"h\", palette=\"Set2\") "
   ],
   "metadata": {
    "collapsed": false,
    "pycharm": {
     "name": "#%%\n"
    }
   }
  },
  {
   "cell_type": "code",
   "execution_count": null,
   "outputs": [],
   "source": [
    "# Outlier treatement\n",
    "\n",
    "# Identify the columns with outlier and replace the outliers with the lower bound and upper bound values\n",
    "\n",
    "col_wth_outlier = [\"Age\",\"Work_load_Average\", \"Body mass index\",\"Weight\" , \"Height\" ]\n",
    "\n",
    "for col in col_wth_outlier : \n",
    "    \n",
    "    q1 = absenteeism[col].quantile(.25)\n",
    "    q3 = absenteeism[col].quantile(.75)\n",
    "    OQR = q3 - q1\n",
    "    lb = q1-(q3-q1)*1.5\n",
    "    ub = q3+(q3-q1)*1.5\n",
    "    absenteeism[col] = np.where(absenteeism[col] < lb, lb,absenteeism[col])\n",
    "    absenteeism[col] = np.where(absenteeism[col] > ub, ub,absenteeism[col])\n",
    "\n"
   ],
   "metadata": {
    "collapsed": false,
    "pycharm": {
     "name": "#%%\n"
    }
   }
  },
  {
   "cell_type": "code",
   "execution_count": null,
   "outputs": [],
   "source": [
    "sns.boxplot(data = absenteeism['Age'], orient=\"h\", palette=\"Set2\")     \n"
   ],
   "metadata": {
    "collapsed": false,
    "pycharm": {
     "name": "#%%\n"
    }
   }
  },
  {
   "cell_type": "code",
   "execution_count": null,
   "outputs": [],
   "source": [
    "sns.boxplot(data = absenteeism['Work_load_Average'], orient=\"h\", palette=\"Set2\") \n"
   ],
   "metadata": {
    "collapsed": false,
    "pycharm": {
     "name": "#%%\n"
    }
   }
  },
  {
   "cell_type": "code",
   "execution_count": null,
   "outputs": [],
   "source": [
    "sns.boxplot(data = absenteeism['Body mass index'], orient=\"h\", palette=\"Set2\") "
   ],
   "metadata": {
    "collapsed": false,
    "pycharm": {
     "name": "#%%\n"
    }
   }
  },
  {
   "cell_type": "code",
   "execution_count": null,
   "outputs": [],
   "source": [
    "sns.boxplot(data = absenteeism['Weight'], orient=\"h\", palette=\"Set2\") \n",
    "\n",
    "sns.boxplot(data = absenteeism['Height'], orient=\"h\", palette=\"Set2\") "
   ],
   "metadata": {
    "collapsed": false,
    "pycharm": {
     "name": "#%%\n"
    }
   }
  },
  {
   "cell_type": "code",
   "execution_count": null,
   "outputs": [],
   "source": [
    "# Check the correlation between the variables using heatmap\n",
    "\n",
    "plt.figure(figsize = (20,6))\n",
    "sns.heatmap(absenteeism.corr(), annot = True)\n",
    "plt.show()\n",
    "\n",
    "# With the help of correlation plot we can see that Body Mass Index and Weight has high correlation near to 1. \n",
    "# Which determines that we can drop one of the variable from the dataset. \n",
    "# Similarly Service time and Age has a significant correlation too"
   ],
   "metadata": {
    "collapsed": false,
    "pycharm": {
     "name": "#%%\n"
    }
   }
  },
  {
   "cell_type": "code",
   "execution_count": null,
   "outputs": [],
   "source": [
    "# Check the bar graph of categorical Data using factorplot\n",
    "sns.set_style(\"whitegrid\")\n",
    "sns.factorplot(data=absenteeism, x='Reason for absence', kind= 'count',size=4,aspect=2)\n",
    "sns.factorplot(data=absenteeism, x='Seasons', kind= 'count',size=4,aspect=2)\n",
    "sns.factorplot(data=absenteeism, x='Education', kind= 'count',size=4,aspect=2)\n",
    "sns.factorplot(data=absenteeism, x='Disciplinary failure', kind= 'count',size=4,aspect=2)"
   ],
   "metadata": {
    "collapsed": false,
    "pycharm": {
     "name": "#%%\n"
    }
   }
  },
  {
   "cell_type": "code",
   "execution_count": null,
   "outputs": [],
   "source": [
    "plt.hist(data=absenteeism, x='Weight', bins='auto', label='Weight')\n",
    "plt.xlabel('Weight')\n",
    "plt.title(\"Weight Distribution\")"
   ],
   "metadata": {
    "collapsed": false,
    "pycharm": {
     "name": "#%%\n"
    }
   }
  },
  {
   "cell_type": "code",
   "execution_count": null,
   "outputs": [],
   "source": [
    "# Check the distribution of numerical data using histogram\n",
    "plt.hist(data=absenteeism, x='Age', bins='auto', label='Age')\n",
    "plt.xlabel('Age')\n",
    "plt.title(\"Age Distribution\")"
   ],
   "metadata": {
    "collapsed": false,
    "pycharm": {
     "name": "#%%\n"
    }
   }
  },
  {
   "cell_type": "code",
   "execution_count": null,
   "outputs": [],
   "source": [
    "# Fixing random state for reproducibility\n",
    "np.random.seed(19680801)\n",
    "N = 663\n",
    "x = absenteeism['Age']\n",
    "y = absenteeism['Absenteeism time in hours']\n",
    "colors = np.random.rand(N)\n",
    "plt.scatter(x, y, c=colors, alpha=0.2)\n",
    "plt.xlabel(\"Age\")\n",
    "plt.ylabel(\"Absenteeism time in hours\")\n",
    "plt.title(\"Distribution of Absenteeism time by Age\")\n",
    "plt.show()"
   ],
   "metadata": {
    "collapsed": false,
    "pycharm": {
     "name": "#%%\n"
    }
   }
  },
  {
   "cell_type": "code",
   "execution_count": null,
   "outputs": [],
   "source": [
    "x = absenteeism['Reason for absence']\n",
    "y = absenteeism['Absenteeism time in hours']\n",
    "plt.scatter(x, y, alpha=0.5)\n",
    "plt.xlabel(\"Reason for Absence\")\n",
    "plt.ylabel(\"Absenteeism time in hours\")\n",
    "plt.title(\"Distribution of Absenteeism time by Reason of Absence\")\n",
    "plt.show()"
   ],
   "metadata": {
    "collapsed": false,
    "pycharm": {
     "name": "#%%\n"
    }
   }
  },
  {
   "cell_type": "code",
   "execution_count": null,
   "outputs": [],
   "source": [
    "# Fixing random state for reproducibility\n",
    "np.random.seed(19680801)\n",
    "N = 663\n",
    "x = absenteeism['Day of the week']\n",
    "y = absenteeism['Absenteeism time in hours']\n",
    "colors = np.random.rand(N)\n",
    "plt.scatter(x, y, c=colors, alpha=0.2)\n",
    "plt.xlabel(\"Day of the week\")\n",
    "plt.ylabel(\"Absenteeism time in hours\")\n",
    "plt.title(\"Distribution of Absenteeism time by Day of the week\")\n",
    "plt.show()"
   ],
   "metadata": {
    "collapsed": false,
    "pycharm": {
     "name": "#%%\n"
    }
   }
  },
  {
   "cell_type": "code",
   "execution_count": null,
   "outputs": [],
   "source": [
    "# Check for outliers using boxplots\n",
    "continuous_variables = [\n",
    "    'Distance from Residence to Work', 'Service time', 'Age', 'Work_load_Average',\n",
    "    'Transportation expense', 'Hit target', 'Weight', 'Height', 'Body mass index', \n",
    "    'Absenteeism time in hours'\n",
    "]\n",
    "\n",
    "categorical_variables = [\n",
    "    'ID','Reason for absence','Month of absence','Day of the week',\n",
    "    'Seasons','Disciplinary failure', 'Education', 'Social drinker',\n",
    "    'Social smoker', 'Pet', 'Son'\n",
    "]\n",
    "\n",
    "for i in continuous_variables:\n",
    "    # Getting 75 and 25 percentile of variable \"i\"\n",
    "    q75, q25 = np.percentile(absenteeism[i], [75,25])\n",
    "    \n",
    "    # Calculating Interquartile range\n",
    "    iqr = q75 - q25\n",
    "    \n",
    "    # Calculating upper extream and lower extream\n",
    "    minimum = q25 - (iqr*1.5)\n",
    "    maximum = q75 + (iqr*1.5)\n",
    "    \n",
    "    # Replacing all the outliers value to NA\n",
    "    absenteeism.loc[absenteeism[i]< minimum,i] = np.nan\n",
    "    absenteeism.loc[absenteeism[i]> maximum,i] = np.nan\n",
    "\n",
    "\n",
    "# Impute missing values with KNN\n",
    "absenteeism = pd.DataFrame(KNN(k = 3).fit_transform(absenteeism), columns = absenteeism.columns)\n",
    "# Checking if there is any missing value\n",
    "absenteeism.isnull().sum()"
   ],
   "metadata": {
    "collapsed": false,
    "pycharm": {
     "name": "#%%\n"
    }
   }
  },
  {
   "cell_type": "code",
   "execution_count": null,
   "outputs": [],
   "source": [
    "# Check for outliers in data using boxplot\n",
    "sns.boxplot(data=absenteeism[['Absenteeism time in hours','Body mass index','Height','Weight']])\n",
    "fig=plt.gcf()\n",
    "fig.set_size_inches(8,8)"
   ],
   "metadata": {
    "collapsed": false,
    "pycharm": {
     "name": "#%%\n"
    }
   }
  },
  {
   "cell_type": "code",
   "execution_count": null,
   "outputs": [],
   "source": [
    "# Check for outliers in data using boxplot\n",
    "sns.boxplot(data=absenteeism[['Hit target','Service time','Age','Transportation expense']])\n",
    "fig=plt.gcf()\n",
    "fig.set_size_inches(8,8)"
   ],
   "metadata": {
    "collapsed": false,
    "pycharm": {
     "name": "#%%\n"
    }
   }
  },
  {
   "cell_type": "markdown",
   "source": [
    "## Feature Selection"
   ],
   "metadata": {
    "collapsed": false
   }
  },
  {
   "cell_type": "code",
   "execution_count": null,
   "outputs": [],
   "source": [
    "# Get dataframe with all continuous variables\n",
    "absenteeism_corr = absenteeism.loc[:,continuous_variables]"
   ],
   "metadata": {
    "collapsed": false,
    "pycharm": {
     "name": "#%%\n"
    }
   }
  },
  {
   "cell_type": "code",
   "execution_count": null,
   "outputs": [],
   "source": [
    "# Check for multicollinearity using corelation graph\n",
    "# Set the width and hieght of the plot\n",
    "f, ax = plt.subplots(figsize=(10, 10))\n",
    "\n",
    "# Generate correlation matrix\n",
    "corr = absenteeism_corr.corr()\n",
    "\n",
    "# Plot using seaborn library\n",
    "sns.heatmap(corr, mask=np.zeros_like(corr, dtype=np.bool), \n",
    "            cmap=sns.diverging_palette(220, 50, as_cmap=True),\n",
    "            square=True, ax=ax, annot = True)\n",
    "plt.plot()"
   ],
   "metadata": {
    "collapsed": false,
    "pycharm": {
     "name": "#%%\n"
    }
   }
  },
  {
   "cell_type": "code",
   "execution_count": null,
   "outputs": [],
   "source": [
    "# Variable Reduction\n",
    "to_drop = ['Weight']\n",
    "absenteeism = absenteeism.drop(to_drop, axis = 1)"
   ],
   "metadata": {
    "collapsed": false,
    "pycharm": {
     "name": "#%%\n"
    }
   }
  },
  {
   "cell_type": "code",
   "execution_count": null,
   "outputs": [],
   "source": [
    "# Updating the Continuous and Categorical Variables\n",
    "continuous_variables.remove('Weight')"
   ],
   "metadata": {
    "collapsed": false,
    "pycharm": {
     "name": "#%%\n"
    }
   }
  },
  {
   "cell_type": "code",
   "execution_count": null,
   "outputs": [],
   "source": [
    "# Make a copy of clean data and export it as excel file\n",
    "clean_data = absenteeism.copy()"
   ],
   "metadata": {
    "collapsed": false,
    "pycharm": {
     "name": "#%%\n"
    }
   }
  },
  {
   "cell_type": "code",
   "execution_count": null,
   "outputs": [],
   "source": [
    "continuous_variables"
   ],
   "metadata": {
    "collapsed": false,
    "pycharm": {
     "name": "#%%\n"
    }
   }
  },
  {
   "cell_type": "markdown",
   "source": [
    "## Feature Scaling"
   ],
   "metadata": {
    "collapsed": false
   }
  },
  {
   "cell_type": "code",
   "execution_count": null,
   "outputs": [],
   "source": [
    "# Normality check\n",
    "for i in continuous_variables:\n",
    "    if i == 'Absenteeism time in hours':\n",
    "        continue\n",
    "    sns.distplot(absenteeism[i],bins = 'auto')\n",
    "    plt.title(\"Checking Distribution for Variable \"+str(i))\n",
    "    plt.ylabel(\"Density\")\n",
    "    plt.show()"
   ],
   "metadata": {
    "collapsed": false,
    "pycharm": {
     "name": "#%%\n"
    }
   }
  },
  {
   "cell_type": "code",
   "execution_count": null,
   "outputs": [],
   "source": [
    "# Normalization of continuous variables\n",
    "for i in continuous_variables:\n",
    "    if i == 'Absenteeism time in hours':\n",
    "        continue\n",
    "    absenteeism[i] = (absenteeism[i] - absenteeism[i].min())/(absenteeism[i].max()-absenteeism[i].min())"
   ],
   "metadata": {
    "collapsed": false,
    "pycharm": {
     "name": "#%%\n"
    }
   }
  },
  {
   "cell_type": "markdown",
   "source": [
    "## Machine Learning Models"
   ],
   "metadata": {
    "collapsed": false
   }
  },
  {
   "cell_type": "code",
   "execution_count": null,
   "outputs": [],
   "source": [
    "# Create dummy variables of factor variables\n",
    "absenteeism = pd.get_dummies(data = absenteeism, columns = categorical_variables)\n",
    "\n",
    "# Copying dataframe\n",
    "absenteeism_copy = absenteeism.copy()"
   ],
   "metadata": {
    "collapsed": false,
    "pycharm": {
     "name": "#%%\n"
    }
   }
  },
  {
   "cell_type": "code",
   "execution_count": null,
   "outputs": [],
   "source": [
    "# Get number of rows and columns\n",
    "absenteeism.shape"
   ],
   "metadata": {
    "collapsed": false,
    "pycharm": {
     "name": "#%%\n"
    }
   }
  },
  {
   "cell_type": "code",
   "execution_count": null,
   "outputs": [],
   "source": [
    "# Observe the first row\n",
    "absenteeism.head(1)"
   ],
   "metadata": {
    "collapsed": false,
    "pycharm": {
     "name": "#%%\n"
    }
   }
  },
  {
   "cell_type": "code",
   "execution_count": null,
   "outputs": [],
   "source": [
    "# Splitting data into train and test data\n",
    "\n",
    "X_train, X_test, y_train, y_test = train_test_split(\n",
    "    absenteeism.iloc[:, absenteeism.columns != 'Absenteeism time in hours'], \n",
    "    absenteeism.iloc[:, 8], test_size = 0.20, random_state = 1\n",
    ")"
   ],
   "metadata": {
    "collapsed": false,
    "pycharm": {
     "name": "#%%\n"
    }
   }
  },
  {
   "cell_type": "markdown",
   "source": [
    "## Decision Tree"
   ],
   "metadata": {
    "collapsed": false
   }
  },
  {
   "cell_type": "code",
   "execution_count": null,
   "outputs": [],
   "source": [
    "# Build decsion tree using DecisionTreeRegressor\n",
    "decision_tree_model = DecisionTreeRegressor(random_state = 1).fit(X_train, y_train)\n",
    "\n",
    "# Perdict for test cases\n",
    "decision_tree_predictions = decision_tree_model.predict(X_test)\n",
    "\n",
    "# Create data frame for actual and predicted values\n",
    "absenteeism_decision_tree = pd.DataFrame({'actual': y_test, 'pred': decision_tree_predictions})\n",
    "print(absenteeism_decision_tree.head())\n",
    "\n",
    "# Define function to calculate RMSE\n",
    "def RMSE(y_actual, y_predicted):\n",
    "    return np.sqrt(mean_squared_error(y_actual, y_predicted))\n",
    "\n",
    "# Calculate RMSE and R-squared value\n",
    "print(\"Root Mean Squared Error: {}\".format(str(RMSE(y_test, decision_tree_predictions))))\n",
    "print(\"R#^2 Score(coefficient of determination): {}\".format(str(r2_score(y_test, decision_tree_predictions))))"
   ],
   "metadata": {
    "collapsed": false,
    "pycharm": {
     "name": "#%%\n"
    }
   }
  },
  {
   "cell_type": "markdown",
   "source": [
    "## Random Forest"
   ],
   "metadata": {
    "collapsed": false
   }
  },
  {
   "cell_type": "code",
   "execution_count": null,
   "outputs": [],
   "source": [
    "# Build random forest using RandomForestRegressor\n",
    "random_forest_model = RandomForestRegressor(n_estimators = 500, random_state = 1).fit(X_train,y_train)\n",
    "\n",
    "# Perdict for test cases\n",
    "random_forest_model_predictions = random_forest_model.predict(X_test)\n",
    "\n",
    "# Create data frame for actual and predicted values\n",
    "absenteeism_random_forest = pd.DataFrame({'actual': y_test, 'pred': random_forest_model_predictions})\n",
    "print(absenteeism_random_forest.head())\n",
    "\n",
    "# Calculate RMSE and R-squared value\n",
    "print(\"Root Mean Squared Error: {}\".format(str(RMSE(y_test, random_forest_model_predictions))))\n",
    "print(\"R#^2 Score(coefficient of determination): {}\".format(str(r2_score(y_test, random_forest_model_predictions))))"
   ],
   "metadata": {
    "collapsed": false,
    "pycharm": {
     "name": "#%%\n"
    }
   }
  },
  {
   "cell_type": "markdown",
   "source": [
    "## Linear Regression"
   ],
   "metadata": {
    "collapsed": false
   }
  },
  {
   "cell_type": "code",
   "execution_count": null,
   "outputs": [],
   "source": [
    "# Train the model\n",
    "linear_regression_model = LinearRegression().fit(X_train , y_train)\n",
    "\n",
    "# Perdict for test cases\n",
    "linear_regression_predictions = linear_regression_model.predict(X_test)\n",
    "\n",
    "# Create data frame for actual and predicted values\n",
    "absenteeism_linear_regression = pd.DataFrame({'actual': y_test, 'pred': linear_regression_predictions})\n",
    "print(absenteeism_linear_regression.head())\n",
    "\n",
    "# Calculate RMSE and R-squared value\n",
    "print(\"Root Mean Squared Error: {}\".format(str(RMSE(y_test, linear_regression_predictions))))\n",
    "print(\"R^2 Score(coefficient of determination): {}\".format(str(r2_score(y_test, linear_regression_predictions))))"
   ],
   "metadata": {
    "collapsed": false,
    "pycharm": {
     "name": "#%%\n"
    }
   }
  },
  {
   "cell_type": "markdown",
   "source": [
    "## Dimension Reduction using PCA"
   ],
   "metadata": {
    "collapsed": false
   }
  },
  {
   "cell_type": "code",
   "execution_count": null,
   "outputs": [],
   "source": [
    "# Get the target variable\n",
    "target = absenteeism['Absenteeism time in hours']"
   ],
   "metadata": {
    "collapsed": false,
    "pycharm": {
     "name": "#%%\n"
    }
   }
  },
  {
   "cell_type": "code",
   "execution_count": null,
   "outputs": [],
   "source": [
    "# Get the number of rows and columns of data\n",
    "absenteeism.shape"
   ],
   "metadata": {
    "collapsed": false,
    "pycharm": {
     "name": "#%%\n"
    }
   }
  },
  {
   "cell_type": "code",
   "execution_count": null,
   "outputs": [],
   "source": [
    "# Converting data to numpy array\n",
    "X = absenteeism.values\n",
    "\n",
    "# Data has 116 variables so no of components of PCA = 115\n",
    "pca = PCA(n_components=115)\n",
    "pca.fit(X)\n",
    "\n",
    "# Proportion of variance explained\n",
    "e xplained_variance_ratio = pca.explained_variance_ratio_\n",
    "\n",
    "#Cumulative scree plot\n",
    "cum_sum = np.cumsum(np.round(explained_variance_ratio, decimals=4)*100)\n",
    "\n",
    "# Draw the plot\n",
    "plt.plot(cum_sum)\n",
    "plt.show()"
   ],
   "metadata": {
    "collapsed": false,
    "pycharm": {
     "name": "#%%\n"
    }
   }
  },
  {
   "cell_type": "code",
   "execution_count": null,
   "outputs": [],
   "source": [
    "# Selecting 45 components since it explains almost 95+ % data variance\n",
    "pca = PCA(n_components=45)\n",
    "\n",
    "# Fitting the selected components to the data\n",
    "pca.fit(X)\n",
    "\n",
    "#S plitting data into train and test data\n",
    "X_train, X_test, y_train, y_test = train_test_split(X,target, test_size=0.2, random_state = 1)"
   ],
   "metadata": {
    "collapsed": false,
    "pycharm": {
     "name": "#%%\n"
    }
   }
  },
  {
   "cell_type": "markdown",
   "source": [
    "## Decision Tree"
   ],
   "metadata": {
    "collapsed": false
   }
  },
  {
   "cell_type": "code",
   "execution_count": null,
   "outputs": [],
   "source": [
    "# Build decsion tree using DecisionTreeRegressor\n",
    "decision_tree_model = DecisionTreeRegressor(random_state=1).fit(X_train,y_train)\n",
    "\n",
    "# Perdict for test cases\n",
    "decision_tree_predictions = decision_tree_model.predict(X_test)\n",
    "\n",
    "# Create data frame for actual and predicted values\n",
    "absenteeism_decision_tree = pd.DataFrame({'actual': y_test, 'pred': decision_tree_predictions})\n",
    "print(absenteeism_decision_tree.head())\n",
    "\n",
    "#C alculate RMSE and R-squared value\n",
    "print(\"Root Mean Squared Error: {}\".format(str(RMSE(y_test, decision_tree_predictions))))\n",
    "print(\"R^2 Score(coefficient of determination): {}\".format(str(r2_score(y_test, decision_tree_predictions))))"
   ],
   "metadata": {
    "collapsed": false,
    "pycharm": {
     "name": "#%%\n"
    }
   }
  },
  {
   "cell_type": "markdown",
   "source": [
    "## Random Forest"
   ],
   "metadata": {
    "collapsed": false
   }
  },
  {
   "cell_type": "code",
   "execution_count": null,
   "outputs": [],
   "source": [
    "# Build random forest using RandomForestRegressor\n",
    "random_forest_model = RandomForestRegressor(n_estimators=500, random_state=1).fit(X_train,y_train)\n",
    "\n",
    "# Perdict for test cases\n",
    "random_forest_predictions = random_forest_model.predict(X_test)\n",
    "\n",
    "# Create data frame for actual and predicted values\n",
    "absenteeism_random_forest_predictions = pd.DataFrame({'actual': y_test, 'pred': random_forest_predictions})\n",
    "print(absenteeism_random_forest_predictions.head())\n",
    "\n",
    "# Calculate RMSE and R-squared value\n",
    "print(\"Root Mean Squared Error: {}\".format(str(RMSE(y_test, random_forest_predictions))))\n",
    "print(\"R^2 Score(coefficient of determination): {}\".format(str(r2_score(y_test, random_forest_predictions))))"
   ],
   "metadata": {
    "collapsed": false,
    "pycharm": {
     "name": "#%%\n"
    }
   }
  },
  {
   "cell_type": "markdown",
   "source": [
    "## Linear Regression"
   ],
   "metadata": {
    "collapsed": false
   }
  },
  {
   "cell_type": "code",
   "execution_count": null,
   "outputs": [],
   "source": [
    "# Train the model\n",
    "lr_model = LinearRegression().fit(X_train , y_train)\n",
    "\n",
    "# Perdict for test cases\n",
    "lr_predictions = lr_model.predict(X_test)\n",
    "\n",
    "# Create data frame for actual and predicted values\n",
    "df_lr = pd.DataFrame({'actual': y_test, 'pred': lr_predictions})\n",
    "print(df_lr.head())\n",
    "\n",
    "# Calculate RMSE and R-squared value\n",
    "print(\"Root Mean Squared Error: \"+str(RMSE(y_test, lr_predictions)))\n",
    "print(\"R^2 Score(coefficient of determination) = \"+str(r2_score(y_test, lr_predictions)))"
   ],
   "metadata": {
    "collapsed": false,
    "pycharm": {
     "name": "#%%\n"
    }
   }
  }
 ],
 "metadata": {
  "kernelspec": {
   "display_name": "Python 3",
   "language": "python",
   "name": "python3"
  },
  "language_info": {
   "codemirror_mode": {
    "name": "ipython",
    "version": 3
   },
   "file_extension": ".py",
   "mimetype": "text/x-python",
   "name": "python",
   "nbconvert_exporter": "python",
   "pygments_lexer": "ipython3",
   "version": "3.8.5"
  }
 },
 "nbformat": 4,
 "nbformat_minor": 4
}